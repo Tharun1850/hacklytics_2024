{
  "nbformat": 4,
  "nbformat_minor": 0,
  "metadata": {
    "colab": {
      "provenance": []
    },
    "kernelspec": {
      "name": "python3",
      "display_name": "Python 3"
    },
    "language_info": {
      "name": "python"
    }
  },
  "cells": [
    {
      "cell_type": "code",
      "source": [
        "#libraries\n",
        "import pandas as pd\n",
        "import glob\n",
        "import matplotlib.pyplot as plt\n",
        "import numpy as np\n",
        "import json\n",
        "from sklearn.model_selection import train_test_split\n",
        "import warnings\n",
        "warnings.filterwarnings('ignore')\n",
        "import os\n",
        "from torch.utils.data import Dataset, DataLoader"
      ],
      "metadata": {
        "id": "oe3zkQ0Yd20y"
      },
      "execution_count": null,
      "outputs": []
    },
    {
      "cell_type": "code",
      "execution_count": null,
      "metadata": {
        "id": "qNs4uOyed1YO"
      },
      "outputs": [],
      "source": [
        "class DIACWOZDataGenerator(Dataset):\n",
        "    def __init__(self,\n",
        "                 data_dir,\n",
        "               output_format='text',\n",
        "               batch_size=1,\n",
        "               shuffle=True,\n",
        "               split=\"train\",\n",
        "               seed=None,\n",
        "               prompt_maker = None,\n",
        "              ):\n",
        "\n",
        "        self.diac_woz_convo_path = os.path.join(data_dir, \"transcript_DAIC_WOZ\")\n",
        "        self.diac_woz_ext_convo_path = os.path.join(data_dir, \"transcript_ext_DAIC_WOZ\")\n",
        "        self.diac_woz_dev_path = os.path.join(data_dir, \"dev_split_Depression_AVEC2017.csv\")\n",
        "        self.diac_woz_ext_dev_path = os.path.join(data_dir, \"dev_split.csv\")\n",
        "        self.diac_woz_train_path = os.path.join(data_dir, \"train_split_Depression_AVEC2017.csv\")\n",
        "        self.diac_woz_ext_train_path = os.path.join(data_dir, \"train_split.csv\")\n",
        "\n",
        "        self.batch_size = batch_size\n",
        "        self.shuffle = shuffle\n",
        "        self.seed = seed\n",
        "        self.split = split\n",
        "        self.total_batches_seen = 0\n",
        "        self.index_array = None\n",
        "        self.total_batches_seen = 0\n",
        "        self.format = output_format\n",
        "        self.samples = self.read_samples(split, self.diac_woz_convo_path, self.diac_woz_ext_convo_path,\n",
        "               self.diac_woz_dev_path, self.diac_woz_ext_dev_path,\n",
        "               self.diac_woz_train_path, self.diac_woz_ext_train_path)\n",
        "        self.sample_ids = np.linspace(0, 1, len(self.samples))\n",
        "\n",
        "        self.prompt_maker = prompt_maker\n",
        "\n",
        "    def concatenate_dataframe(self, df):\n",
        "        prev_speaker = None\n",
        "        result_df = pd.DataFrame(columns=['speaker', 'value'])\n",
        "\n",
        "        for index, row in df.iterrows():\n",
        "            if prev_speaker == row['speaker']:\n",
        "                result_df.at[result_df.index[-1], 'value'] += ' ' + row['value']\n",
        "            else:\n",
        "                result_df = pd.concat([result_df, pd.DataFrame({'speaker': [row['speaker']], 'value': [row['value']]})], ignore_index=True)\n",
        "                prev_speaker = row['speaker']\n",
        "\n",
        "        if result_df.iloc[0]['speaker'] == 'Ellie':\n",
        "            result_df = result_df[2:]\n",
        "        else:\n",
        "            result_df = result_df[3:]\n",
        "\n",
        "        return result_df\n",
        "\n",
        "    def get_records_and_labels(self, diac_woz_convo_path, diac_woz_ext_convo_path, daic_woz_split_path, daic_woz_ext_split_path):\n",
        "        x = []\n",
        "        y = []\n",
        "\n",
        "        dc = pd.read_csv(daic_woz_split_path)\n",
        "        dc_ex = pd.read_csv(daic_woz_ext_split_path)\n",
        "\n",
        "        for f in dc[\"Participant_ID\"].values:\n",
        "            file = os.path.join(diac_woz_convo_path, str(f) + \"_TRANSCRIPT.csv\")\n",
        "            df_ = pd.read_csv(file, delimiter = \"\\t\")\n",
        "            df_['value'] = df_['value'].astype(str)\n",
        "            df = self.concatenate_dataframe(df_)\n",
        "            df['combined'] = df['value']\n",
        "            x.append(\". \".join(map(str, df['combined'].values.tolist())))\n",
        "            label = dc[dc['Participant_ID'] == int(f)].PHQ8_Binary.values[0]\n",
        "            y.append(label)\n",
        "\n",
        "        for f in dc_ex[\"Participant_ID\"].values:\n",
        "            file = os.path.join(diac_woz_ext_convo_path, str(f) + \"_Transcript.csv\")\n",
        "            df_ex = pd.read_csv(file, delimiter = \",\")\n",
        "            df_ex['combined'] = df_ex['Text']\n",
        "            x.append(\". \".join(map(str, df_ex['combined'].values.tolist())))\n",
        "            label = dc_ex[dc_ex['Participant_ID'] == int(f)].PHQ_Binary.values[0]\n",
        "            y.append(label)\n",
        "\n",
        "        return x, y\n",
        "\n",
        "    def read_samples(self, split, diac_woz_convo_path, diac_woz_ext_convo_path,\n",
        "               diac_woz_dev_path, diac_woz_ext_dev_path,\n",
        "               diac_woz_train_path, diac_woz_ext_train_path):\n",
        "        samples = []\n",
        "\n",
        "        if split ==\"train\":\n",
        "            Xs, ys = self.get_records_and_labels(diac_woz_convo_path, diac_woz_ext_convo_path, diac_woz_train_path, diac_woz_ext_train_path)\n",
        "        elif split ==\"dev\":\n",
        "            Xs, ys = self.get_records_and_labels(diac_woz_convo_path, diac_woz_ext_convo_path, diac_woz_dev_path, diac_woz_ext_dev_path)\n",
        "\n",
        "        for x, y in zip(Xs, ys):\n",
        "            samples.append({\n",
        "                'conversation': x,\n",
        "                'label': int(y),\n",
        "            })\n",
        "\n",
        "        return samples\n",
        "\n",
        "    def set_index_array(self):\n",
        "        self.index_array = np.arange(0, len(self), 1)\n",
        "        if self.shuffle:\n",
        "            np.random.shuffle(self.index_array)\n",
        "\n",
        "    def __len__(self):\n",
        "        return (len(self.samples) + self.batch_size - 1) // self.batch_size\n",
        "\n",
        "    def __getitem__(self, idx):\n",
        "        if idx < 0 or idx >= len(self):\n",
        "            raise IndexError\n",
        "\n",
        "        if self.seed is not None:\n",
        "            np.random.seed(self.seed + self.total_batches_seen)\n",
        "        self.total_batches_seen += 1\n",
        "        if self.index_array is None:\n",
        "            self.set_index_array()\n",
        "\n",
        "        index_array = self.index_array[self.batch_size * int(idx): self.batch_size * int(idx + 1)]\n",
        "\n",
        "        return self._get_batch(index_array)\n",
        "\n",
        "    def _get_batch(self, index_array):\n",
        "        batch_x, batch_y = self._get_sample_batch(index_array)\n",
        "        return batch_x, batch_y\n",
        "\n",
        "    def _get_sample_batch(self, index_array):\n",
        "        batch_x, batch_y = [], []\n",
        "        for x, y in self._get_sample_pair(index_array):\n",
        "            batch_x.append(x)\n",
        "            batch_y.append(y)\n",
        "        return batch_x, batch_y\n",
        "\n",
        "    def _get_sample_pair(self, index):\n",
        "        for i in index:\n",
        "            sample = self.samples[i]\n",
        "            prompt = self._get_prompt(sample)\n",
        "            label = 'depressed' if sample['label'] == 1 else 'not depressed'\n",
        "            yield prompt, label\n",
        "\n",
        "    def _get_prompt(self, sample):\n",
        "        prompt = sample\n",
        "        return prompt\n",
        "\n"
      ]
    },
    {
      "cell_type": "code",
      "source": [
        "data_path = \"/content/drive/MyDrive/Hacklytics/dataset/data\"\n",
        "\n",
        "train = DIACWOZDataGenerator(data_path, split=\"train\")\n",
        "dev = DIACWOZDataGenerator(data_path, split=\"dev\")"
      ],
      "metadata": {
        "id": "m5vPA07_hd18"
      },
      "execution_count": null,
      "outputs": []
    },
    {
      "cell_type": "code",
      "source": [
        "len(train)"
      ],
      "metadata": {
        "colab": {
          "base_uri": "https://localhost:8080/"
        },
        "id": "s0Ku1Ch207bb",
        "outputId": "1a203472-df10-43b2-b542-a68d62373cbc"
      },
      "execution_count": null,
      "outputs": [
        {
          "output_type": "execute_result",
          "data": {
            "text/plain": [
              "270"
            ]
          },
          "metadata": {},
          "execution_count": 11
        }
      ]
    },
    {
      "cell_type": "code",
      "source": [
        "len(dev)"
      ],
      "metadata": {
        "colab": {
          "base_uri": "https://localhost:8080/"
        },
        "id": "cF94wLm51aT5",
        "outputId": "ed07b784-eee4-4a26-e2a0-05190a5662e0"
      },
      "execution_count": null,
      "outputs": [
        {
          "output_type": "execute_result",
          "data": {
            "text/plain": [
              "91"
            ]
          },
          "metadata": {},
          "execution_count": 12
        }
      ]
    },
    {
      "cell_type": "code",
      "source": [
        "train[232][0][0][\"conversation\"]"
      ],
      "metadata": {
        "colab": {
          "base_uri": "https://localhost:8080/",
          "height": 250
        },
        "id": "saMCnfQi2Nbj",
        "outputId": "cf6e5e10-72f4-4476-e9cb-2cb2dc74af8d"
      },
      "execution_count": null,
      "outputs": [
        {
          "output_type": "execute_result",
          "data": {
            "text/plain": [
              "\"okay. I'm pleased.  are you okay with this yes.  pretty good.  I grew up in Boston.  about 30 years ago.  yep.  I'm too often maybe once a year sometimes less.  oh I love living in that way I don't ever want to live anywhere else.  well I came out here to go to college and I wanted to be far away from my parents and the weather was good and.  that's part of it.  a very easy well maybe somebody's at the beginning the first few weeks for it's really hard to just be in a new environment and to be away from everybody I knew but after a few weeks it was great.  broadcast journalism.  well it's something I'd wanted to do since I was 12 and everything I did from the time I was twelve until I went to college with sort of in pursuit of that dream.  are you still working in that nope.  well it's kind of a long story but I got laid off from my first job when I was in my 20s and it just once I'd done that work I realized that's not really what I wanted to do is to cut throat of a business and it just really wasn't suited for me didn't make me happy.  yep.  dream job my dream job is working with football players and helping them recover from concussions and other injuries.  well the work itself is not very hard I'm very good at what I do. The hard part is finding the right people and making the connections to work with them.  I'm sure you can tell by my shoes I have not much of a world Explorer you travel a lot I used to I don't travel so much right now.  what do you enjoy about.  I love seeing different places and different things like I love going to places that are not like.  where I'm from.  I love to hear about one of your trips my favorite trip is I went to Australia from my 30th birthday.  cuz I wanted to lose my 30th birthday as I cross the International Date Line.  and I went to this really small place up on the West Coast of Australia called sharks Bay where Native dolphins live and swim and is very isolated for the most part and I got to be there for a whole weekend just really just pretty much by myself with all these wild dolphins and they come in they swim with you and it's amazing just a beautiful beautiful spot in the world.  more shy.  why that's a good question partly the first thing I think of is cuz I've always been that way but maybe that's an excuse I don't know.  I just prefer to be quiet and I'd rather be with fewer people than lots of people.  so.  I watch TV about this probably not the best alternative but it is something I do and I also walk on the beach cuz I live close to the beach so that's one of my favorite things to relax.  pretty good.  it depends on the situation but most of the time I'm pretty good.  I don't think I tend to argue with people I think I just get mad about situations but not at people directly.  turn up I feel guilty about anything at the moment.  that you wish you would handle differ.  not sure I have one at the moment.  noise other people's noise makes me really mad I live across the street from a bar and these people are so rude and obnoxious and not consider it their neighbors that that just makes me really mad.  yeah.  well I'm only want the comes to mind off the top of my head is is when I bought my condo it feel like a really hard decision at the time you know I didn't know that I could do it I didn't wasn't sure if I had the money to do it.  so thoughtful like a really difficult decision but in hindsight course it turned out to be a great decision but at the time it was really difficult to do that.  how easy is it for you to get a good night sleep pretty easy I sleep pretty well.  for the most part good I'm I'm just really worried about money at the moment so that's my biggest so I can't say that I'm like great but it's cuz I'm worried but you know I'm also confident that things are going to work up.  have you ever been diagnosed with p.  nope.  I don't know I can't remember.  I mean I don't feel super happy all the time but I don't feel unhappy either sort of like just a even keel.  really enjoy.  well I got to go to the my friends work at the motion picture Academy so I get to see all the enough Oscar nominated movies.  she was there one night so I really enjoyed catching up with her and seeing her again so that was very pleasant.  nice.  how your best friend describe you.  I think they would say reliable and.  well.  and considerate and thoughtful.  no I really worked hard on that I think there's lots of things maybe I would do differently but there's nothing that really I regret.  well I just think that there are things that.  like it's not worth wasting the energy to think about things that I regret so I don't have a lot of regrets about things.  that's a good question don't worry about the small stuff.  and save more money.  well as soon as you know the normal things like I'd lose more weight than I would.  think be a little more Fearless Maybe.  be a little more bold.  I don't think I have any of those.  it's been your ideal weekend.  well I'm I'm self-employed so I work all the time so my ideal weekend is having lots of clients that's something I enjoyed.  so that would that would be ideal if this point my weekends if I were really busy.  how to make your life.  that I've really been able to take care of myself and that you know I've done pretty much everything that I've said that I wanted to do.  I've done that and I don't mean I don't have regrets about things there's nothing really that is unfilled undone in my life sure there's plenty of things I still want to do but I feel like I've done what I said I was going to do.  yeah that's not so great so it's okay with my parents are deceased and I have a sister and a brother.  I feel closer to my brother than my sister but they both live in the east coast and I live in LA and then my sister has two girls so I feel very close to my nieces although we don't talk as much as we used to cook their teenager so.  I have other things on their mind.  probably my teacher person I've learned my holistic Bodywork from I really like to model my work in my way of being after him the keys are a good role model for me the way he holds his work in the way he lives his life.  I'm pretty close we're not you know that's her friends but I do I know that I can call him anytime I need him.  what are some things that usually put you in a good mood.  you're being with my friends are going out to dinner or.  yeah just spending time with my friends.  okay.  thanks.  it works again\""
            ],
            "application/vnd.google.colaboratory.intrinsic+json": {
              "type": "string"
            }
          },
          "metadata": {},
          "execution_count": 21
        }
      ]
    },
    {
      "cell_type": "code",
      "source": [
        "train[0][0][0][\"label\"]"
      ],
      "metadata": {
        "colab": {
          "base_uri": "https://localhost:8080/"
        },
        "id": "GwOMlQ712mDc",
        "outputId": "cfcb5e93-82b0-4188-f9ef-f66702518c83"
      },
      "execution_count": null,
      "outputs": [
        {
          "output_type": "execute_result",
          "data": {
            "text/plain": [
              "0"
            ]
          },
          "metadata": {},
          "execution_count": 20
        }
      ]
    },
    {
      "cell_type": "code",
      "source": [
        "import csv\n",
        "import json\n",
        "\n",
        "def create_csv(filename, data):\n",
        "    with open(filename, 'w', newline='') as file:\n",
        "        writer = csv.writer(file)\n",
        "        for conversation in data:\n",
        "            system_message = {\"role\": \"system\", \"content\": \"de \"}\n",
        "            user_message = {\"role\": \"user\", \"content\": conversation[0][0][\"conversation\"]}\n",
        "            if conversation[0][0][\"label\"] == 0:\n",
        "                assistant_message = {\"role\": \"assistant\", \"content\": \"The person is NOT-DEPRESSED\"}\n",
        "            else:\n",
        "                assistant_message = {\"role\": \"assistant\", \"content\": \"The person is DEPRESSED\"}\n",
        "            messages = {\"messages\": [system_message, user_message, assistant_message]}\n",
        "            writer.writerow([json.dumps(messages)])\n"
      ],
      "metadata": {
        "id": "gnnrp7mI2Fmd"
      },
      "execution_count": null,
      "outputs": []
    },
    {
      "cell_type": "code",
      "source": [
        "csv_filename = '/content/drive/MyDrive/Hacklytics/dataset/data/train_data.csv'\n",
        "\n",
        "# Create the CSV file\n",
        "create_csv(csv_filename, train)"
      ],
      "metadata": {
        "id": "g0QlKwrS4trC"
      },
      "execution_count": null,
      "outputs": []
    },
    {
      "cell_type": "code",
      "source": [
        "csv_filename = '/content/drive/MyDrive/Hacklytics/dataset/data/dev_data.csv'\n",
        "\n",
        "# Create the CSV file\n",
        "create_csv(csv_filename, dev)"
      ],
      "metadata": {
        "id": "F026nI5Z4y0y"
      },
      "execution_count": null,
      "outputs": []
    },
    {
      "cell_type": "code",
      "source": [],
      "metadata": {
        "id": "vk8Ao4xfKhr7"
      },
      "execution_count": null,
      "outputs": []
    }
  ]
}